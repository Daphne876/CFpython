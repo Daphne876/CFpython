{
 "cells": [
  {
   "cell_type": "markdown",
   "id": "4273ca7a",
   "metadata": {},
   "source": [
    "# Task 4.7 Exercise"
   ]
  },
  {
   "cell_type": "code",
   "execution_count": 15,
   "id": "e4ee76d6",
   "metadata": {},
   "outputs": [],
   "source": [
    "# 01. Importing Libraries\n",
    "# import libraries\n",
    "\n",
    "import pandas as pd\n",
    "import numpy as np\n",
    "import os"
   ]
  },
  {
   "cell_type": "code",
   "execution_count": 16,
   "id": "f45a1028",
   "metadata": {},
   "outputs": [],
   "source": [
    "import pickle"
   ]
  },
  {
   "cell_type": "code",
   "execution_count": 17,
   "id": "00dd6731",
   "metadata": {},
   "outputs": [],
   "source": [
    "# filepath for orders_products_merged.pkl\n",
    "\n",
    "orders_products_merged_filepath = '/Users/daphne/Downloads/Instacart Basket Analysis/02 Data/Prepared Data/orders_products_merged.pkl'"
   ]
  },
  {
   "cell_type": "code",
   "execution_count": 18,
   "id": "56f64154",
   "metadata": {},
   "outputs": [],
   "source": [
    "# Open and read the Pickle file\n",
    "\n",
    "\n",
    "with open(orders_products_merged_filepath, 'rb') as file:\n",
    "    ords_prods_merged = pickle.load(file)"
   ]
  },
  {
   "cell_type": "code",
   "execution_count": 20,
   "id": "03745c0d",
   "metadata": {},
   "outputs": [],
   "source": [
    "# Creating a subset\n",
    "\n",
    "df = ords_prods_merged[:1000000]"
   ]
  },
  {
   "cell_type": "code",
   "execution_count": 22,
   "id": "9d63d4f4",
   "metadata": {},
   "outputs": [
    {
     "data": {
      "text/plain": [
       "(1000000, 15)"
      ]
     },
     "execution_count": 22,
     "metadata": {},
     "output_type": "execute_result"
    }
   ],
   "source": [
    "df.shape"
   ]
  },
  {
   "cell_type": "code",
   "execution_count": 23,
   "id": "eeff50b5",
   "metadata": {},
   "outputs": [],
   "source": [
    "# Applying a string label\n",
    "\n",
    "def price_label(row):\n",
    "\n",
    "  if row['prices'] <= 5:\n",
    "    return 'Low-range product'\n",
    "  elif (row['prices'] > 5) and (row['prices'] <= 15):\n",
    "    return 'Mid-range product'\n",
    "  elif row['prices'] > 15:\n",
    "    return 'High range'\n",
    "  else: return 'Not enough data'"
   ]
  },
  {
   "cell_type": "code",
   "execution_count": 25,
   "id": "46e47a4a",
   "metadata": {},
   "outputs": [
    {
     "name": "stderr",
     "output_type": "stream",
     "text": [
      "/var/folders/q2/bgrk_sqx3n796dlgvw46tclc0000gn/T/ipykernel_77144/1876636259.py:3: SettingWithCopyWarning: \n",
      "A value is trying to be set on a copy of a slice from a DataFrame.\n",
      "Try using .loc[row_indexer,col_indexer] = value instead\n",
      "\n",
      "See the caveats in the documentation: https://pandas.pydata.org/pandas-docs/stable/user_guide/indexing.html#returning-a-view-versus-a-copy\n",
      "  df['price_range'] = df.apply(price_label, axis=1)\n"
     ]
    }
   ],
   "source": [
    "# Applying the function\n",
    "\n",
    "df['price_range'] = df.apply(price_label, axis=1)"
   ]
  },
  {
   "cell_type": "code",
   "execution_count": 26,
   "id": "aa77f163",
   "metadata": {},
   "outputs": [
    {
     "data": {
      "text/plain": [
       "Mid-range product    756450\n",
       "Low-range product    243550\n",
       "Name: price_range, dtype: int64"
      ]
     },
     "execution_count": 26,
     "metadata": {},
     "output_type": "execute_result"
    }
   ],
   "source": [
    "df['price_range'].value_counts(dropna = False)"
   ]
  },
  {
   "cell_type": "code",
   "execution_count": 27,
   "id": "06884c1a",
   "metadata": {},
   "outputs": [
    {
     "data": {
      "text/plain": [
       "14.8"
      ]
     },
     "execution_count": 27,
     "metadata": {},
     "output_type": "execute_result"
    }
   ],
   "source": [
    "df['prices'].max()"
   ]
  },
  {
   "cell_type": "markdown",
   "id": "0cbfdeab",
   "metadata": {},
   "source": [
    "Applying a string label using .loc"
   ]
  },
  {
   "cell_type": "code",
   "execution_count": 31,
   "id": "27afe52b",
   "metadata": {},
   "outputs": [],
   "source": [
    "df.loc[df['prices'] > 15, 'price_range_loc'] = 'High-range product'"
   ]
  },
  {
   "cell_type": "code",
   "execution_count": 32,
   "id": "c92be344",
   "metadata": {},
   "outputs": [],
   "source": [
    "df.loc[(df['prices'] <= 15) & (df['prices'] > 5), 'price_range_loc'] = 'Mid-range product' "
   ]
  },
  {
   "cell_type": "code",
   "execution_count": 33,
   "id": "bb21b691",
   "metadata": {},
   "outputs": [],
   "source": [
    "df.loc[df['prices'] <= 5, 'price_range_loc'] = 'Low-range product'"
   ]
  },
  {
   "cell_type": "code",
   "execution_count": 34,
   "id": "a80a090a",
   "metadata": {},
   "outputs": [
    {
     "data": {
      "text/plain": [
       "Mid-range product    756450\n",
       "Low-range product    243550\n",
       "Name: price_range_loc, dtype: int64"
      ]
     },
     "execution_count": 34,
     "metadata": {},
     "output_type": "execute_result"
    }
   ],
   "source": [
    "df['price_range_loc'].value_counts(dropna = False)"
   ]
  },
  {
   "cell_type": "markdown",
   "id": "8b079cb3",
   "metadata": {},
   "source": [
    "Applying a string label with the whole dataframe"
   ]
  },
  {
   "cell_type": "code",
   "execution_count": 41,
   "id": "145ad37b",
   "metadata": {},
   "outputs": [],
   "source": [
    "ords_prods_merged.loc[ords_prods_merged['prices'] > 15, 'price_range_loc'] = 'High-range product'"
   ]
  },
  {
   "cell_type": "code",
   "execution_count": 42,
   "id": "66147df1",
   "metadata": {},
   "outputs": [],
   "source": [
    "ords_prods_merged.loc[(ords_prods_merged['prices'] <= 15) & (ords_prods_merged['prices'] > 5), 'price_range_loc'] = 'Mid-range product' "
   ]
  },
  {
   "cell_type": "code",
   "execution_count": 43,
   "id": "de6e2cc7",
   "metadata": {},
   "outputs": [],
   "source": [
    "ords_prods_merged.loc[ords_prods_merged['prices'] <= 5, 'price_range_loc'] = 'Low-range product'"
   ]
  },
  {
   "cell_type": "code",
   "execution_count": 44,
   "id": "105e4029",
   "metadata": {},
   "outputs": [
    {
     "data": {
      "text/plain": [
       "Mid-range product     21860860\n",
       "Low-range product     10126321\n",
       "High-range product      417678\n",
       "Name: price_range_loc, dtype: int64"
      ]
     },
     "execution_count": 44,
     "metadata": {},
     "output_type": "execute_result"
    }
   ],
   "source": [
    "ords_prods_merged['price_range_loc'].value_counts(dropna = False)"
   ]
  },
  {
   "cell_type": "code",
   "execution_count": 50,
   "id": "df3edd87",
   "metadata": {},
   "outputs": [
    {
     "data": {
      "text/plain": [
       "0    6204182\n",
       "1    5660230\n",
       "6    4496490\n",
       "2    4213830\n",
       "5    4205791\n",
       "3    3840534\n",
       "4    3783802\n",
       "Name: order_dow, dtype: int64"
      ]
     },
     "execution_count": 50,
     "metadata": {},
     "output_type": "execute_result"
    }
   ],
   "source": [
    "# frequency of order_dow\n",
    "\n",
    "ords_prods_merged['order_dow'].value_counts(dropna = False)"
   ]
  },
  {
   "cell_type": "code",
   "execution_count": 53,
   "id": "66885687",
   "metadata": {},
   "outputs": [],
   "source": [
    "# Creating busiest_day column\n",
    "\n",
    "result = []\n",
    "\n",
    "for value in ords_prods_merged[\"order_dow\"]:\n",
    "  if value == 0:\n",
    "    result.append(\"Busiest day\")\n",
    "  elif value == 4:\n",
    "    result.append(\"Least busy\")\n",
    "  else:\n",
    "    result.append(\"Regularly busy\")"
   ]
  },
  {
   "cell_type": "code",
   "execution_count": 54,
   "id": "f3a2bd62",
   "metadata": {},
   "outputs": [],
   "source": [
    "# Combining column to ords_prods_merged\n",
    "\n",
    "ords_prods_merged['busiest_day'] = result"
   ]
  },
  {
   "cell_type": "code",
   "execution_count": 55,
   "id": "5c80d1f1",
   "metadata": {},
   "outputs": [
    {
     "data": {
      "text/plain": [
       "Regularly busy    22416875\n",
       "Busiest day        6204182\n",
       "Least busy         3783802\n",
       "Name: busiest_day, dtype: int64"
      ]
     },
     "execution_count": 55,
     "metadata": {},
     "output_type": "execute_result"
    }
   ],
   "source": [
    "ords_prods_merged['busiest_day'].value_counts(dropna = False)"
   ]
  },
  {
   "cell_type": "markdown",
   "id": "005b6db6",
   "metadata": {},
   "source": [
    "# Task "
   ]
  },
  {
   "cell_type": "markdown",
   "id": "5394ee97",
   "metadata": {},
   "source": [
    "### Step 2"
   ]
  },
  {
   "cell_type": "markdown",
   "id": "1b2342e3",
   "metadata": {},
   "source": [
    "Saturday and Sunday are the two busiest days, Tuesday and Wednesday are the least busy days."
   ]
  },
  {
   "cell_type": "code",
   "execution_count": 64,
   "id": "70d881fa",
   "metadata": {},
   "outputs": [],
   "source": [
    "# Creating 'busiest_days' column\n",
    "\n",
    "result = []\n",
    "\n",
    "for value in ords_prods_merged[\"order_dow\"]:\n",
    "    if value in (0, 1):\n",
    "        result.append(\"Busiest days\")\n",
    "    elif value in (4, 3):\n",
    "        result.append(\"Slowest days\")\n",
    "    else:\n",
    "        result.append(\"Regularly busy\")"
   ]
  },
  {
   "cell_type": "markdown",
   "id": "8c10ca37",
   "metadata": {},
   "source": [
    "### Step 3"
   ]
  },
  {
   "cell_type": "code",
   "execution_count": 67,
   "id": "e48299e5",
   "metadata": {},
   "outputs": [],
   "source": [
    "# Combining column to ords_prods_merged\n",
    "\n",
    "ords_prods_merged['busiest_days'] = result"
   ]
  },
  {
   "cell_type": "code",
   "execution_count": 68,
   "id": "e863e75b",
   "metadata": {},
   "outputs": [
    {
     "data": {
      "text/plain": [
       "Regularly busy    12916111\n",
       "Busiest days      11864412\n",
       "Slowest days       7624336\n",
       "Name: busiest_days, dtype: int64"
      ]
     },
     "execution_count": 68,
     "metadata": {},
     "output_type": "execute_result"
    }
   ],
   "source": [
    "ords_prods_merged['busiest_days'].value_counts(dropna = False)"
   ]
  },
  {
   "cell_type": "markdown",
   "id": "b43a2d12",
   "metadata": {},
   "source": [
    "### Step 4"
   ]
  },
  {
   "cell_type": "code",
   "execution_count": 70,
   "id": "8c80af2a",
   "metadata": {},
   "outputs": [
    {
     "data": {
      "text/plain": [
       "10    2761760\n",
       "11    2736140\n",
       "14    2689136\n",
       "15    2662144\n",
       "13    2660954\n",
       "12    2618532\n",
       "16    2535202\n",
       "9     2454203\n",
       "17    2087654\n",
       "8     1718118\n",
       "18    1636502\n",
       "19    1258305\n",
       "20     976156\n",
       "7      891054\n",
       "21     795637\n",
       "22     634225\n",
       "23     402316\n",
       "6      290493\n",
       "0      218769\n",
       "1      115700\n",
       "5       87961\n",
       "2       69375\n",
       "4       53242\n",
       "3       51281\n",
       "Name: order_hour_of_day, dtype: int64"
      ]
     },
     "execution_count": 70,
     "metadata": {},
     "output_type": "execute_result"
    }
   ],
   "source": [
    "# Frequency of order_hour_of_day\n",
    "\n",
    "ords_prods_merged['order_hour_of_day'].value_counts(dropna = False)"
   ]
  },
  {
   "cell_type": "markdown",
   "id": "1fa5e860",
   "metadata": {},
   "source": [
    "It looks like busiest and slowest hours of the day don't have a consistent pattern, so I can't make 'Most orders', 'Average orders' and 'Least orders' relate to spcefic periods of the day."
   ]
  },
  {
   "cell_type": "code",
   "execution_count": 71,
   "id": "4142c035",
   "metadata": {},
   "outputs": [],
   "source": [
    "# Creating 'busiest_period_of_day' column\n",
    "\n",
    "result = []\n",
    "\n",
    "for value in ords_prods_merged[\"order_hour_of_day\"]:\n",
    "    if value in (9, 10, 11, 12, 13, 14, 15, 16):\n",
    "        result.append(\"Most orders\")\n",
    "    elif value in (17, 8, 18, 19, 20, 7, 21, 22):\n",
    "        result.append(\"Average orders\")\n",
    "    else:\n",
    "        result.append(\"Least orders\")"
   ]
  },
  {
   "cell_type": "markdown",
   "id": "eb0148aa",
   "metadata": {},
   "source": [
    "### Step 5"
   ]
  },
  {
   "cell_type": "code",
   "execution_count": 72,
   "id": "056d7162",
   "metadata": {},
   "outputs": [],
   "source": [
    "# Combining column to ords_prods_merged\n",
    "\n",
    "ords_prods_merged['busiest_period_of_day'] = result"
   ]
  },
  {
   "cell_type": "code",
   "execution_count": 73,
   "id": "3d7f5ef1",
   "metadata": {},
   "outputs": [
    {
     "data": {
      "text/plain": [
       "Most orders       21118071\n",
       "Average orders     9997651\n",
       "Least orders       1289137\n",
       "Name: busiest_period_of_day, dtype: int64"
      ]
     },
     "execution_count": 73,
     "metadata": {},
     "output_type": "execute_result"
    }
   ],
   "source": [
    "ords_prods_merged['busiest_period_of_day'].value_counts(dropna = False)"
   ]
  },
  {
   "cell_type": "markdown",
   "id": "77da2d70",
   "metadata": {},
   "source": [
    "### Step 7"
   ]
  },
  {
   "cell_type": "code",
   "execution_count": 75,
   "id": "ed656b94",
   "metadata": {},
   "outputs": [],
   "source": [
    "# Defining filepath\n",
    "\n",
    "file_path = \"/Users/daphne/Downloads/Instacart Basket Analysis/02 Data/ords_prods_merged_new.pkl\""
   ]
  },
  {
   "cell_type": "code",
   "execution_count": 76,
   "id": "bc6dd4bb",
   "metadata": {},
   "outputs": [],
   "source": [
    "# Export dataframe\n",
    "\n",
    "ords_prods_merged.to_pickle(file_path)"
   ]
  },
  {
   "cell_type": "code",
   "execution_count": 77,
   "id": "604a8906",
   "metadata": {},
   "outputs": [
    {
     "name": "stdout",
     "output_type": "stream",
     "text": [
      "DataFrame exported to '/Users/daphne/Downloads/Instacart Basket Analysis/02 Data/ords_prods_merged_new.pkl' successfully.\n"
     ]
    }
   ],
   "source": [
    "# Comfirm export\n",
    "\n",
    "print(f\"DataFrame exported to '{file_path}' successfully.\")"
   ]
  },
  {
   "cell_type": "code",
   "execution_count": null,
   "id": "f17029a7",
   "metadata": {},
   "outputs": [],
   "source": []
  }
 ],
 "metadata": {
  "kernelspec": {
   "display_name": "Python 3 (ipykernel)",
   "language": "python",
   "name": "python3"
  },
  "language_info": {
   "codemirror_mode": {
    "name": "ipython",
    "version": 3
   },
   "file_extension": ".py",
   "mimetype": "text/x-python",
   "name": "python",
   "nbconvert_exporter": "python",
   "pygments_lexer": "ipython3",
   "version": "3.11.3"
  }
 },
 "nbformat": 4,
 "nbformat_minor": 5
}
