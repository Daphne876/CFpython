{
 "cells": [
  {
   "cell_type": "markdown",
   "id": "23b39305",
   "metadata": {},
   "source": [
    "# Step 1, Import"
   ]
  },
  {
   "cell_type": "code",
   "execution_count": 1,
   "id": "ebe7830f",
   "metadata": {},
   "outputs": [],
   "source": [
    "import pandas as pd\n",
    "import numpy as np\n",
    "import os\n",
    "import matplotlib.pyplot as plt\n",
    "import seaborn as sns\n",
    "import scipy\n",
    "import pickle"
   ]
  },
  {
   "cell_type": "code",
   "execution_count": 2,
   "id": "683dc882",
   "metadata": {},
   "outputs": [],
   "source": [
    "# filepath for instacart_basket.pkl\n",
    "\n",
    "instacart_basket_df_filepath = '/Users/daphne/Downloads/Instacart Basket Analysis/02 Data/Prepared Data/instacart_basket_df.pkl'"
   ]
  },
  {
   "cell_type": "code",
   "execution_count": 3,
   "id": "0657866b",
   "metadata": {},
   "outputs": [],
   "source": [
    "# Open and read file\n",
    "\n",
    "\n",
    "with open(instacart_basket_df_filepath, 'rb') as file:\n",
    "    df_insta_full = pickle.load(file)"
   ]
  },
  {
   "cell_type": "code",
   "execution_count": 4,
   "id": "0a4f0ee7",
   "metadata": {},
   "outputs": [
    {
     "data": {
      "text/plain": [
       "(32404859, 34)"
      ]
     },
     "execution_count": 4,
     "metadata": {},
     "output_type": "execute_result"
    }
   ],
   "source": [
    "df_insta_full.shape"
   ]
  },
  {
   "cell_type": "code",
   "execution_count": null,
   "id": "daa62886",
   "metadata": {},
   "outputs": [],
   "source": [
    "df_insta_full.head()"
   ]
  },
  {
   "cell_type": "markdown",
   "id": "f47f666c",
   "metadata": {},
   "source": [
    "# Step 2, Address PII"
   ]
  },
  {
   "cell_type": "code",
   "execution_count": 5,
   "id": "73016802",
   "metadata": {},
   "outputs": [],
   "source": [
    "# Drop the 'surname' column\n",
    "df_insta_full = df_insta_full.drop('surname', axis=1)"
   ]
  },
  {
   "cell_type": "code",
   "execution_count": null,
   "id": "293da1e6",
   "metadata": {},
   "outputs": [],
   "source": [
    "df_insta_full.head()"
   ]
  },
  {
   "cell_type": "markdown",
   "id": "2a50e1ac",
   "metadata": {},
   "source": [
    "# Step 3, Region"
   ]
  },
  {
   "cell_type": "code",
   "execution_count": 6,
   "id": "86c43ceb",
   "metadata": {},
   "outputs": [],
   "source": [
    "# Define regions\n",
    "\n",
    "Northeast = ['Maine', 'New Hampshire', 'Vermont', 'Massachusetts', 'Rhode Island', 'Connecticut', 'New York', 'Pennsylvania', 'New Jersey']\n",
    "Midwest = ['Wisconsin', 'Michigan', 'Illinois', 'Indiana', 'Ohio', 'North Dakota', 'South Dakota', 'Nebraska', 'Kansas', 'Minnesota', 'Iowa', 'Missouri']\n",
    "South = ['Delaware', 'Maryland', 'District of Columbia', 'Virginia', 'West Virginia', 'North Carolina', 'South Carolina', 'Georgia', 'Florida', 'Kentucky', 'Tennessee', 'Mississippi', 'Alabama', 'Oklahoma', 'Texas', 'Arkansas', 'Louisiana']\n",
    "West = ['Idaho', 'Montana', 'Wyoming', 'Nevada', 'Utah', 'Colorado', 'Arizona', 'New Mexico', 'Alaska', 'Washington', 'Oregon', 'California', 'Hawaii']"
   ]
  },
  {
   "cell_type": "code",
   "execution_count": 7,
   "id": "31a1784a",
   "metadata": {},
   "outputs": [],
   "source": [
    "# Create new 'region' column\n",
    "\n",
    "df_insta_full['region'] = None"
   ]
  },
  {
   "cell_type": "code",
   "execution_count": 8,
   "id": "84ae2582",
   "metadata": {},
   "outputs": [],
   "source": [
    "# Use loc to set the region based on the state\n",
    "\n",
    "df_insta_full.loc[df_insta_full['state'].isin(Northeast), 'region'] = 'Northeast'\n",
    "df_insta_full.loc[df_insta_full['state'].isin(Midwest), 'region'] = 'Midwest'\n",
    "df_insta_full.loc[df_insta_full['state'].isin(South), 'region'] = 'South'\n",
    "df_insta_full.loc[df_insta_full['state'].isin(West), 'region'] = 'West'"
   ]
  },
  {
   "cell_type": "code",
   "execution_count": null,
   "id": "9298cd04",
   "metadata": {},
   "outputs": [],
   "source": [
    "df_insta_full.head()"
   ]
  },
  {
   "cell_type": "code",
   "execution_count": 9,
   "id": "e1583d5d",
   "metadata": {},
   "outputs": [],
   "source": [
    "# Create a cross-tabulation table\n",
    "\n",
    "crosstab = pd.crosstab(df_insta_full['region'], df_insta_full['spending_flag'])"
   ]
  },
  {
   "cell_type": "code",
   "execution_count": 10,
   "id": "a40feafe",
   "metadata": {},
   "outputs": [
    {
     "data": {
      "text/html": [
       "<div>\n",
       "<style scoped>\n",
       "    .dataframe tbody tr th:only-of-type {\n",
       "        vertical-align: middle;\n",
       "    }\n",
       "\n",
       "    .dataframe tbody tr th {\n",
       "        vertical-align: top;\n",
       "    }\n",
       "\n",
       "    .dataframe thead th {\n",
       "        text-align: right;\n",
       "    }\n",
       "</style>\n",
       "<table border=\"1\" class=\"dataframe\">\n",
       "  <thead>\n",
       "    <tr style=\"text-align: right;\">\n",
       "      <th>spending_flag</th>\n",
       "      <th>high spender</th>\n",
       "      <th>regular spender</th>\n",
       "    </tr>\n",
       "    <tr>\n",
       "      <th>region</th>\n",
       "      <th></th>\n",
       "      <th></th>\n",
       "    </tr>\n",
       "  </thead>\n",
       "  <tbody>\n",
       "    <tr>\n",
       "      <th>Midwest</th>\n",
       "      <td>155975</td>\n",
       "      <td>7441350</td>\n",
       "    </tr>\n",
       "    <tr>\n",
       "      <th>Northeast</th>\n",
       "      <td>108225</td>\n",
       "      <td>5614511</td>\n",
       "    </tr>\n",
       "    <tr>\n",
       "      <th>South</th>\n",
       "      <td>209691</td>\n",
       "      <td>10582194</td>\n",
       "    </tr>\n",
       "    <tr>\n",
       "      <th>West</th>\n",
       "      <td>160354</td>\n",
       "      <td>8132559</td>\n",
       "    </tr>\n",
       "  </tbody>\n",
       "</table>\n",
       "</div>"
      ],
      "text/plain": [
       "spending_flag  high spender  regular spender\n",
       "region                                      \n",
       "Midwest              155975          7441350\n",
       "Northeast            108225          5614511\n",
       "South                209691         10582194\n",
       "West                 160354          8132559"
      ]
     },
     "execution_count": 10,
     "metadata": {},
     "output_type": "execute_result"
    }
   ],
   "source": [
    "crosstab"
   ]
  },
  {
   "cell_type": "markdown",
   "id": "919f7907",
   "metadata": {},
   "source": [
    "There is a differnce in spending habits by region. The Northeast region spends the least and the South and West region spend the most. This could also be because there are more states and greater populations in these regions."
   ]
  },
  {
   "cell_type": "markdown",
   "id": "03deb19a",
   "metadata": {},
   "source": [
    "# Step 4, Exclusion Flag"
   ]
  },
  {
   "cell_type": "code",
   "execution_count": 11,
   "id": "e8bca78b",
   "metadata": {},
   "outputs": [],
   "source": [
    "# Number of orders per customer\n",
    "\n",
    "order_counts = df_insta_full.groupby('user_id')['order_number'].count()"
   ]
  },
  {
   "cell_type": "code",
   "execution_count": 12,
   "id": "5a756b0b",
   "metadata": {},
   "outputs": [],
   "source": [
    "# Create exclusion flag\n",
    "\n",
    "def create_exclusion_flag(order_count):\n",
    "    if order_count < 5:\n",
    "        return 'exclude'\n",
    "    else:\n",
    "        return 'include'"
   ]
  },
  {
   "cell_type": "code",
   "execution_count": 13,
   "id": "1ec10bcc",
   "metadata": {},
   "outputs": [],
   "source": [
    "# Create exclusion flag column\n",
    "\n",
    "df_insta_full['exclusion_flag'] = df_insta_full['user_id'].map(order_counts.apply(create_exclusion_flag))"
   ]
  },
  {
   "cell_type": "code",
   "execution_count": 14,
   "id": "5e99c47f",
   "metadata": {},
   "outputs": [],
   "source": [
    "# Exclude low activity customers\n",
    "\n",
    "df_filtered = df_insta_full[df_insta_full['exclusion_flag'] == 'include']"
   ]
  },
  {
   "cell_type": "code",
   "execution_count": null,
   "id": "560d66a1",
   "metadata": {},
   "outputs": [],
   "source": [
    "df_filtered.head()"
   ]
  },
  {
   "cell_type": "markdown",
   "id": "ad4f4b52",
   "metadata": {},
   "source": [
    "I've already exported df_filtered, this is the code I used:\n",
    "\n",
    "\"# Defining filepath\n",
    "\n",
    "high_activity_file_path = \"/Users/daphne/Downloads/Instacart Basket Analysis/02 Data/df_insta_high_act.pkl\"\"\n",
    "\n",
    "\"# Export dataframe\n",
    "\n",
    "df_filtered.to_pickle(high_activity_file_path)\""
   ]
  },
  {
   "cell_type": "markdown",
   "id": "488dae72",
   "metadata": {},
   "source": [
    "# Step 5, Customer Profiling"
   ]
  },
  {
   "cell_type": "markdown",
   "id": "d2c83803",
   "metadata": {},
   "source": [
    "Age Group"
   ]
  },
  {
   "cell_type": "code",
   "execution_count": 16,
   "id": "f4fd32a7",
   "metadata": {},
   "outputs": [],
   "source": [
    "df_filtered.loc[df_filtered['age'] <= 29, 'age_group'] = '18-29'\n",
    "df_filtered.loc[(df_filtered['age'] > 29) & (df_filtered['age'] < 40), 'age_group'] = '30-39'\n",
    "df_filtered.loc[(df_filtered['age'] > 39) & (df_filtered['age'] < 50), 'age_group'] = '40-49'\n",
    "df_filtered.loc[(df_filtered['age'] > 49) & (df_filtered['age'] < 60), 'age_group'] = '50-59'\n",
    "df_filtered.loc[(df_filtered['age'] > 59) & (df_filtered['age'] < 70), 'age_group'] = '60-69'\n",
    "df_filtered.loc[df_filtered['age'] > 69, 'age_group'] = '70 and over'"
   ]
  },
  {
   "cell_type": "code",
   "execution_count": 17,
   "id": "d5f336d2",
   "metadata": {},
   "outputs": [
    {
     "data": {
      "text/plain": [
       "18-29          6089837\n",
       "70 and over    6079469\n",
       "40-49          5108761\n",
       "30-39          5073330\n",
       "50-59          5063757\n",
       "60-69          4986821\n",
       "Name: age_group, dtype: int64"
      ]
     },
     "execution_count": 17,
     "metadata": {},
     "output_type": "execute_result"
    }
   ],
   "source": [
    "df_filtered['age_group'].value_counts(dropna = False)"
   ]
  },
  {
   "cell_type": "code",
   "execution_count": null,
   "id": "78f9182f",
   "metadata": {},
   "outputs": [],
   "source": [
    "df_filtered.head()"
   ]
  },
  {
   "cell_type": "markdown",
   "id": "0c7ab22a",
   "metadata": {},
   "source": [
    "Income Group"
   ]
  },
  {
   "cell_type": "code",
   "execution_count": 19,
   "id": "8204cdb5",
   "metadata": {},
   "outputs": [],
   "source": [
    "df_filtered.loc[df_filtered['income'] <= 70000, 'income_group'] = 'low'\n",
    "df_filtered.loc[(df_filtered['income'] > 70000) & (df_filtered['income'] <= 120000), 'income_group'] = 'average'\n",
    "df_filtered.loc[df_filtered['income'] > 100000, 'income_group'] = 'high'"
   ]
  },
  {
   "cell_type": "code",
   "execution_count": 20,
   "id": "1ac1c535",
   "metadata": {},
   "outputs": [
    {
     "data": {
      "text/plain": [
       "high       14813412\n",
       "low         8994267\n",
       "average     8594296\n",
       "Name: income_group, dtype: int64"
      ]
     },
     "execution_count": 20,
     "metadata": {},
     "output_type": "execute_result"
    }
   ],
   "source": [
    "df_filtered['income_group'].value_counts(dropna = False)"
   ]
  },
  {
   "cell_type": "code",
   "execution_count": null,
   "id": "f26ec605",
   "metadata": {},
   "outputs": [],
   "source": [
    "df_filtered.head()"
   ]
  },
  {
   "cell_type": "markdown",
   "id": "32c93538",
   "metadata": {},
   "source": [
    "Department "
   ]
  },
  {
   "cell_type": "code",
   "execution_count": 21,
   "id": "c86c1650",
   "metadata": {},
   "outputs": [],
   "source": [
    "# filepath for departments_wrangled.csv\n",
    "\n",
    "departments_filepath = '/Users/daphne/Downloads/Instacart Basket Analysis/02 Data/Prepared Data/dep_wrangled.csv'"
   ]
  },
  {
   "cell_type": "code",
   "execution_count": 22,
   "id": "09fa53f6",
   "metadata": {},
   "outputs": [],
   "source": [
    "# Read CSV file\n",
    "\n",
    "df_dep = pd.read_csv(departments_filepath, index_col=False)"
   ]
  },
  {
   "cell_type": "code",
   "execution_count": null,
   "id": "6a3b6f2b",
   "metadata": {},
   "outputs": [],
   "source": [
    "df_dep"
   ]
  },
  {
   "cell_type": "code",
   "execution_count": 24,
   "id": "7cb74de6",
   "metadata": {},
   "outputs": [],
   "source": [
    "# merge df_dep and df_filtered\n",
    "\n",
    "merged_df = df_filtered.merge(df_dep, on='department_id', how='inner')"
   ]
  },
  {
   "cell_type": "code",
   "execution_count": null,
   "id": "2218612f",
   "metadata": {
    "scrolled": true
   },
   "outputs": [],
   "source": [
    "merged_df.head()"
   ]
  },
  {
   "cell_type": "markdown",
   "id": "7ae5b928",
   "metadata": {},
   "source": [
    "Number of Dependents Group"
   ]
  },
  {
   "cell_type": "code",
   "execution_count": 25,
   "id": "3fa3827c",
   "metadata": {},
   "outputs": [],
   "source": [
    "# Define conditions and labels\n",
    "\n",
    "conditions = [\n",
    "    (merged_df['fam_status'] == 'single') & (merged_df['n_dependants'] >= 1),\n",
    "    (merged_df['fam_status'] == 'married') & (merged_df['n_dependants'] == 0),\n",
    "    (merged_df['fam_status'] == 'married') & (merged_df['n_dependants'] > 0),\n",
    "    (merged_df['fam_status'] == 'single') & (merged_df['n_dependants'] == 0),\n",
    "    (merged_df['fam_status'] == 'divorced/widowed') & (merged_df['n_dependants'] == 0),\n",
    "    (merged_df['fam_status'] == 'divorced/widowed') & (merged_df['n_dependants'] >= 1),\n",
    "    (merged_df['fam_status'] == 'living with parents and siblings') & (merged_df['n_dependants'] >= 1),\n",
    "    (merged_df['fam_status'] == 'living with parents and siblings') & (merged_df['n_dependants'] == 0)\n",
    "]\n",
    "\n",
    "labels = ['single_parent', 'couple', 'family', 'single_adult', 'single_adult', 'single_parent', 'single_parent', 'single_adult']\n"
   ]
  },
  {
   "cell_type": "code",
   "execution_count": 26,
   "id": "88c39ecb",
   "metadata": {},
   "outputs": [],
   "source": [
    "# Create the 'dependents_group' column \n",
    "\n",
    "merged_df.loc[:, 'dependents_group'] = np.select(conditions, labels, default='unknown')"
   ]
  },
  {
   "cell_type": "code",
   "execution_count": null,
   "id": "4bce6d73",
   "metadata": {},
   "outputs": [],
   "source": [
    "merged_df.head()"
   ]
  },
  {
   "cell_type": "code",
   "execution_count": 27,
   "id": "cc015b23",
   "metadata": {},
   "outputs": [
    {
     "data": {
      "text/plain": [
       "family           22754753\n",
       "single_adult      8096749\n",
       "single_parent     1550473\n",
       "Name: dependents_group, dtype: int64"
      ]
     },
     "execution_count": 27,
     "metadata": {},
     "output_type": "execute_result"
    }
   ],
   "source": [
    "merged_df['dependents_group'].value_counts(dropna = False)"
   ]
  },
  {
   "cell_type": "markdown",
   "id": "03d29e08",
   "metadata": {},
   "source": [
    "# Step 6, Visualizations"
   ]
  },
  {
   "cell_type": "code",
   "execution_count": 28,
   "id": "f9e7a7b4",
   "metadata": {},
   "outputs": [
    {
     "data": {
      "text/plain": [
       "Text(0.5, 1.0, 'Age Groups by Order ')"
      ]
     },
     "execution_count": 28,
     "metadata": {},
     "output_type": "execute_result"
    },
    {
     "data": {
      "image/png": "[encoded data removed]",
      "text/plain": [
       "<Figure size 640x480 with 1 Axes>"
      ]
     },
     "metadata": {},
     "output_type": "display_data"
    }
   ],
   "source": [
    "# Age Group Bar chart\n",
    "\n",
    "age_group_bar = merged_df['age_group'].value_counts().sort_index().plot.bar()\n",
    "plt.title('Age Groups by Order ')"
   ]
  },
  {
   "cell_type": "code",
   "execution_count": 29,
   "id": "7c3439f0",
   "metadata": {},
   "outputs": [
    {
     "data": {
      "text/plain": [
       "Text(0.5, 1.0, 'Income Groups')"
      ]
     },
     "execution_count": 29,
     "metadata": {},
     "output_type": "execute_result"
    },
    {
     "data": {
      "image/png": "[encoded data removed]",
      "text/plain": [
       "<Figure size 640x480 with 1 Axes>"
      ]
     },
     "metadata": {},
     "output_type": "display_data"
    }
   ],
   "source": [
    "# Income Group Bar chart\n",
    "\n",
    "income_group_bar = merged_df['income_group'].value_counts().plot.bar()\n",
    "plt.title('Income Groups')"
   ]
  },
  {
   "cell_type": "code",
   "execution_count": 30,
   "id": "41bfca85",
   "metadata": {},
   "outputs": [
    {
     "data": {
      "text/plain": [
       "Text(0.5, 1.0, 'Departments')"
      ]
     },
     "execution_count": 30,
     "metadata": {},
     "output_type": "execute_result"
    },
    {
     "data": {
      "image/png": "[encoded data removed]",
      "text/plain": [
       "<Figure size 640x480 with 1 Axes>"
      ]
     },
     "metadata": {},
     "output_type": "display_data"
    }
   ],
   "source": [
    "# Departments Bar Chart\n",
    "\n",
    "department_group_bar = merged_df['department'].value_counts().plot.bar()\n",
    "plt.title('Departments')"
   ]
  },
  {
   "cell_type": "code",
   "execution_count": 31,
   "id": "224eca01",
   "metadata": {},
   "outputs": [
    {
     "data": {
      "text/plain": [
       "Text(0.5, 1.0, 'Dependents')"
      ]
     },
     "execution_count": 31,
     "metadata": {},
     "output_type": "execute_result"
    },
    {
     "data": {
      "image/png": "[encoded data removed]",
      "text/plain": [
       "<Figure size 640x480 with 1 Axes>"
      ]
     },
     "metadata": {},
     "output_type": "display_data"
    }
   ],
   "source": [
    "# Number of Dependents Group Bar chart\n",
    "\n",
    "dependents_group_bar = merged_df['dependents_group'].value_counts().plot.bar()\n",
    "plt.title('Dependents')"
   ]
  },
  {
   "cell_type": "markdown",
   "id": "f24f64f4",
   "metadata": {},
   "source": [
    "# Step 7, Aggregate Max, Mean, and Min"
   ]
  },
  {
   "cell_type": "markdown",
   "id": "09ecdf1d",
   "metadata": {},
   "source": [
    "Age Group"
   ]
  },
  {
   "cell_type": "code",
   "execution_count": 32,
   "id": "d5f781dc",
   "metadata": {},
   "outputs": [],
   "source": [
    "age_agg = merged_df.groupby('age_group',)[['days_since_prior_order','prices']].agg(['min','max','mean'])"
   ]
  },
  {
   "cell_type": "code",
   "execution_count": 33,
   "id": "02f2fa2d",
   "metadata": {},
   "outputs": [
    {
     "data": {
      "text/html": [
       "<div>\n",
       "<style scoped>\n",
       "    .dataframe tbody tr th:only-of-type {\n",
       "        vertical-align: middle;\n",
       "    }\n",
       "\n",
       "    .dataframe tbody tr th {\n",
       "        vertical-align: top;\n",
       "    }\n",
       "\n",
       "    .dataframe thead tr th {\n",
       "        text-align: left;\n",
       "    }\n",
       "\n",
       "    .dataframe thead tr:last-of-type th {\n",
       "        text-align: right;\n",
       "    }\n",
       "</style>\n",
       "<table border=\"1\" class=\"dataframe\">\n",
       "  <thead>\n",
       "    <tr>\n",
       "      <th></th>\n",
       "      <th colspan=\"3\" halign=\"left\">days_since_prior_order</th>\n",
       "      <th colspan=\"3\" halign=\"left\">prices</th>\n",
       "    </tr>\n",
       "    <tr>\n",
       "      <th></th>\n",
       "      <th>min</th>\n",
       "      <th>max</th>\n",
       "      <th>mean</th>\n",
       "      <th>min</th>\n",
       "      <th>max</th>\n",
       "      <th>mean</th>\n",
       "    </tr>\n",
       "    <tr>\n",
       "      <th>age_group</th>\n",
       "      <th></th>\n",
       "      <th></th>\n",
       "      <th></th>\n",
       "      <th></th>\n",
       "      <th></th>\n",
       "      <th></th>\n",
       "    </tr>\n",
       "  </thead>\n",
       "  <tbody>\n",
       "    <tr>\n",
       "      <th>18-29</th>\n",
       "      <td>0.0</td>\n",
       "      <td>30.0</td>\n",
       "      <td>11.112462</td>\n",
       "      <td>1.0</td>\n",
       "      <td>99999.0</td>\n",
       "      <td>12.172472</td>\n",
       "    </tr>\n",
       "    <tr>\n",
       "      <th>30-39</th>\n",
       "      <td>0.0</td>\n",
       "      <td>30.0</td>\n",
       "      <td>11.101364</td>\n",
       "      <td>1.0</td>\n",
       "      <td>99999.0</td>\n",
       "      <td>11.933667</td>\n",
       "    </tr>\n",
       "    <tr>\n",
       "      <th>40-49</th>\n",
       "      <td>0.0</td>\n",
       "      <td>30.0</td>\n",
       "      <td>11.096594</td>\n",
       "      <td>1.0</td>\n",
       "      <td>99999.0</td>\n",
       "      <td>12.365443</td>\n",
       "    </tr>\n",
       "    <tr>\n",
       "      <th>50-59</th>\n",
       "      <td>0.0</td>\n",
       "      <td>30.0</td>\n",
       "      <td>11.126830</td>\n",
       "      <td>1.0</td>\n",
       "      <td>99999.0</td>\n",
       "      <td>11.863113</td>\n",
       "    </tr>\n",
       "    <tr>\n",
       "      <th>60-69</th>\n",
       "      <td>0.0</td>\n",
       "      <td>30.0</td>\n",
       "      <td>11.094716</td>\n",
       "      <td>1.0</td>\n",
       "      <td>99999.0</td>\n",
       "      <td>11.628252</td>\n",
       "    </tr>\n",
       "    <tr>\n",
       "      <th>70 and over</th>\n",
       "      <td>0.0</td>\n",
       "      <td>30.0</td>\n",
       "      <td>11.089564</td>\n",
       "      <td>1.0</td>\n",
       "      <td>99999.0</td>\n",
       "      <td>11.874838</td>\n",
       "    </tr>\n",
       "  </tbody>\n",
       "</table>\n",
       "</div>"
      ],
      "text/plain": [
       "            days_since_prior_order                  prices                    \n",
       "                               min   max       mean    min      max       mean\n",
       "age_group                                                                     \n",
       "18-29                          0.0  30.0  11.112462    1.0  99999.0  12.172472\n",
       "30-39                          0.0  30.0  11.101364    1.0  99999.0  11.933667\n",
       "40-49                          0.0  30.0  11.096594    1.0  99999.0  12.365443\n",
       "50-59                          0.0  30.0  11.126830    1.0  99999.0  11.863113\n",
       "60-69                          0.0  30.0  11.094716    1.0  99999.0  11.628252\n",
       "70 and over                    0.0  30.0  11.089564    1.0  99999.0  11.874838"
      ]
     },
     "execution_count": 33,
     "metadata": {},
     "output_type": "execute_result"
    }
   ],
   "source": [
    "age_agg"
   ]
  },
  {
   "cell_type": "markdown",
   "id": "ab11521a",
   "metadata": {},
   "source": [
    "Income Group"
   ]
  },
  {
   "cell_type": "code",
   "execution_count": 34,
   "id": "18b7dad5",
   "metadata": {},
   "outputs": [],
   "source": [
    "income_agg = df_filtered.groupby('income_group',)[['days_since_prior_order','prices']].agg(['min','max','mean'])"
   ]
  },
  {
   "cell_type": "code",
   "execution_count": 35,
   "id": "d6242ba4",
   "metadata": {},
   "outputs": [
    {
     "data": {
      "text/html": [
       "<div>\n",
       "<style scoped>\n",
       "    .dataframe tbody tr th:only-of-type {\n",
       "        vertical-align: middle;\n",
       "    }\n",
       "\n",
       "    .dataframe tbody tr th {\n",
       "        vertical-align: top;\n",
       "    }\n",
       "\n",
       "    .dataframe thead tr th {\n",
       "        text-align: left;\n",
       "    }\n",
       "\n",
       "    .dataframe thead tr:last-of-type th {\n",
       "        text-align: right;\n",
       "    }\n",
       "</style>\n",
       "<table border=\"1\" class=\"dataframe\">\n",
       "  <thead>\n",
       "    <tr>\n",
       "      <th></th>\n",
       "      <th colspan=\"3\" halign=\"left\">days_since_prior_order</th>\n",
       "      <th colspan=\"3\" halign=\"left\">prices</th>\n",
       "    </tr>\n",
       "    <tr>\n",
       "      <th></th>\n",
       "      <th>min</th>\n",
       "      <th>max</th>\n",
       "      <th>mean</th>\n",
       "      <th>min</th>\n",
       "      <th>max</th>\n",
       "      <th>mean</th>\n",
       "    </tr>\n",
       "    <tr>\n",
       "      <th>income_group</th>\n",
       "      <th></th>\n",
       "      <th></th>\n",
       "      <th></th>\n",
       "      <th></th>\n",
       "      <th></th>\n",
       "      <th></th>\n",
       "    </tr>\n",
       "  </thead>\n",
       "  <tbody>\n",
       "    <tr>\n",
       "      <th>average</th>\n",
       "      <td>0.0</td>\n",
       "      <td>30.0</td>\n",
       "      <td>11.028730</td>\n",
       "      <td>1.0</td>\n",
       "      <td>99999.0</td>\n",
       "      <td>8.890235</td>\n",
       "    </tr>\n",
       "    <tr>\n",
       "      <th>high</th>\n",
       "      <td>0.0</td>\n",
       "      <td>30.0</td>\n",
       "      <td>11.039485</td>\n",
       "      <td>1.0</td>\n",
       "      <td>99999.0</td>\n",
       "      <td>16.573431</td>\n",
       "    </tr>\n",
       "    <tr>\n",
       "      <th>low</th>\n",
       "      <td>0.0</td>\n",
       "      <td>30.0</td>\n",
       "      <td>11.281023</td>\n",
       "      <td>1.0</td>\n",
       "      <td>14900.0</td>\n",
       "      <td>7.358260</td>\n",
       "    </tr>\n",
       "  </tbody>\n",
       "</table>\n",
       "</div>"
      ],
      "text/plain": [
       "             days_since_prior_order                  prices           \\\n",
       "                                min   max       mean    min      max   \n",
       "income_group                                                           \n",
       "average                         0.0  30.0  11.028730    1.0  99999.0   \n",
       "high                            0.0  30.0  11.039485    1.0  99999.0   \n",
       "low                             0.0  30.0  11.281023    1.0  14900.0   \n",
       "\n",
       "                         \n",
       "                   mean  \n",
       "income_group             \n",
       "average        8.890235  \n",
       "high          16.573431  \n",
       "low            7.358260  "
      ]
     },
     "execution_count": 35,
     "metadata": {},
     "output_type": "execute_result"
    }
   ],
   "source": [
    "income_agg"
   ]
  },
  {
   "cell_type": "markdown",
   "id": "ea2dd694",
   "metadata": {},
   "source": [
    "Dependents Group"
   ]
  },
  {
   "cell_type": "code",
   "execution_count": 36,
   "id": "288c1e4a",
   "metadata": {},
   "outputs": [],
   "source": [
    "dependents_agg = merged_df.groupby('dependents_group',)[['days_since_prior_order','prices']].agg(['min','max','mean'])"
   ]
  },
  {
   "cell_type": "code",
   "execution_count": 37,
   "id": "050971fd",
   "metadata": {},
   "outputs": [
    {
     "data": {
      "text/html": [
       "<div>\n",
       "<style scoped>\n",
       "    .dataframe tbody tr th:only-of-type {\n",
       "        vertical-align: middle;\n",
       "    }\n",
       "\n",
       "    .dataframe tbody tr th {\n",
       "        vertical-align: top;\n",
       "    }\n",
       "\n",
       "    .dataframe thead tr th {\n",
       "        text-align: left;\n",
       "    }\n",
       "\n",
       "    .dataframe thead tr:last-of-type th {\n",
       "        text-align: right;\n",
       "    }\n",
       "</style>\n",
       "<table border=\"1\" class=\"dataframe\">\n",
       "  <thead>\n",
       "    <tr>\n",
       "      <th></th>\n",
       "      <th colspan=\"3\" halign=\"left\">days_since_prior_order</th>\n",
       "      <th colspan=\"3\" halign=\"left\">prices</th>\n",
       "    </tr>\n",
       "    <tr>\n",
       "      <th></th>\n",
       "      <th>min</th>\n",
       "      <th>max</th>\n",
       "      <th>mean</th>\n",
       "      <th>min</th>\n",
       "      <th>max</th>\n",
       "      <th>mean</th>\n",
       "    </tr>\n",
       "    <tr>\n",
       "      <th>dependents_group</th>\n",
       "      <th></th>\n",
       "      <th></th>\n",
       "      <th></th>\n",
       "      <th></th>\n",
       "      <th></th>\n",
       "      <th></th>\n",
       "    </tr>\n",
       "  </thead>\n",
       "  <tbody>\n",
       "    <tr>\n",
       "      <th>family</th>\n",
       "      <td>0.0</td>\n",
       "      <td>30.0</td>\n",
       "      <td>11.115541</td>\n",
       "      <td>1.0</td>\n",
       "      <td>99999.0</td>\n",
       "      <td>12.006078</td>\n",
       "    </tr>\n",
       "    <tr>\n",
       "      <th>single_adult</th>\n",
       "      <td>0.0</td>\n",
       "      <td>30.0</td>\n",
       "      <td>11.080131</td>\n",
       "      <td>1.0</td>\n",
       "      <td>99999.0</td>\n",
       "      <td>12.117328</td>\n",
       "    </tr>\n",
       "    <tr>\n",
       "      <th>single_parent</th>\n",
       "      <td>0.0</td>\n",
       "      <td>30.0</td>\n",
       "      <td>11.047623</td>\n",
       "      <td>1.0</td>\n",
       "      <td>99999.0</td>\n",
       "      <td>10.829108</td>\n",
       "    </tr>\n",
       "  </tbody>\n",
       "</table>\n",
       "</div>"
      ],
      "text/plain": [
       "                 days_since_prior_order                  prices           \\\n",
       "                                    min   max       mean    min      max   \n",
       "dependents_group                                                           \n",
       "family                              0.0  30.0  11.115541    1.0  99999.0   \n",
       "single_adult                        0.0  30.0  11.080131    1.0  99999.0   \n",
       "single_parent                       0.0  30.0  11.047623    1.0  99999.0   \n",
       "\n",
       "                             \n",
       "                       mean  \n",
       "dependents_group             \n",
       "family            12.006078  \n",
       "single_adult      12.117328  \n",
       "single_parent     10.829108  "
      ]
     },
     "execution_count": 37,
     "metadata": {},
     "output_type": "execute_result"
    }
   ],
   "source": [
    "dependents_agg"
   ]
  },
  {
   "cell_type": "markdown",
   "id": "ef80c575",
   "metadata": {},
   "source": [
    "# Step 8, Compare Customer Profiles with Regions and Departments"
   ]
  },
  {
   "cell_type": "code",
   "execution_count": 38,
   "id": "ad8fdadf",
   "metadata": {},
   "outputs": [],
   "source": [
    "# Age and Income by region\n",
    "\n",
    "age_income_region = merged_df.groupby('region')[['income_group','age_group']].value_counts().reset_index(name='count')"
   ]
  },
  {
   "cell_type": "code",
   "execution_count": 39,
   "id": "9cd83c6d",
   "metadata": {},
   "outputs": [
    {
     "data": {
      "text/html": [
       "<div>\n",
       "<style scoped>\n",
       "    .dataframe tbody tr th:only-of-type {\n",
       "        vertical-align: middle;\n",
       "    }\n",
       "\n",
       "    .dataframe tbody tr th {\n",
       "        vertical-align: top;\n",
       "    }\n",
       "\n",
       "    .dataframe thead th {\n",
       "        text-align: right;\n",
       "    }\n",
       "</style>\n",
       "<table border=\"1\" class=\"dataframe\">\n",
       "  <thead>\n",
       "    <tr style=\"text-align: right;\">\n",
       "      <th></th>\n",
       "      <th>region</th>\n",
       "      <th>income_group</th>\n",
       "      <th>age_group</th>\n",
       "      <th>count</th>\n",
       "    </tr>\n",
       "  </thead>\n",
       "  <tbody>\n",
       "    <tr>\n",
       "      <th>0</th>\n",
       "      <td>Midwest</td>\n",
       "      <td>high</td>\n",
       "      <td>70 and over</td>\n",
       "      <td>985437</td>\n",
       "    </tr>\n",
       "    <tr>\n",
       "      <th>1</th>\n",
       "      <td>Midwest</td>\n",
       "      <td>high</td>\n",
       "      <td>50-59</td>\n",
       "      <td>849307</td>\n",
       "    </tr>\n",
       "    <tr>\n",
       "      <th>2</th>\n",
       "      <td>Midwest</td>\n",
       "      <td>high</td>\n",
       "      <td>60-69</td>\n",
       "      <td>822332</td>\n",
       "    </tr>\n",
       "    <tr>\n",
       "      <th>3</th>\n",
       "      <td>Midwest</td>\n",
       "      <td>high</td>\n",
       "      <td>40-49</td>\n",
       "      <td>792897</td>\n",
       "    </tr>\n",
       "    <tr>\n",
       "      <th>4</th>\n",
       "      <td>Midwest</td>\n",
       "      <td>low</td>\n",
       "      <td>18-29</td>\n",
       "      <td>726754</td>\n",
       "    </tr>\n",
       "    <tr>\n",
       "      <th>...</th>\n",
       "      <td>...</td>\n",
       "      <td>...</td>\n",
       "      <td>...</td>\n",
       "      <td>...</td>\n",
       "    </tr>\n",
       "    <tr>\n",
       "      <th>67</th>\n",
       "      <td>West</td>\n",
       "      <td>average</td>\n",
       "      <td>50-59</td>\n",
       "      <td>222185</td>\n",
       "    </tr>\n",
       "    <tr>\n",
       "      <th>68</th>\n",
       "      <td>West</td>\n",
       "      <td>low</td>\n",
       "      <td>50-59</td>\n",
       "      <td>201913</td>\n",
       "    </tr>\n",
       "    <tr>\n",
       "      <th>69</th>\n",
       "      <td>West</td>\n",
       "      <td>low</td>\n",
       "      <td>60-69</td>\n",
       "      <td>170121</td>\n",
       "    </tr>\n",
       "    <tr>\n",
       "      <th>70</th>\n",
       "      <td>West</td>\n",
       "      <td>high</td>\n",
       "      <td>18-29</td>\n",
       "      <td>48349</td>\n",
       "    </tr>\n",
       "    <tr>\n",
       "      <th>71</th>\n",
       "      <td>West</td>\n",
       "      <td>high</td>\n",
       "      <td>30-39</td>\n",
       "      <td>38678</td>\n",
       "    </tr>\n",
       "  </tbody>\n",
       "</table>\n",
       "<p>72 rows × 4 columns</p>\n",
       "</div>"
      ],
      "text/plain": [
       "     region income_group    age_group   count\n",
       "0   Midwest         high  70 and over  985437\n",
       "1   Midwest         high        50-59  849307\n",
       "2   Midwest         high        60-69  822332\n",
       "3   Midwest         high        40-49  792897\n",
       "4   Midwest          low        18-29  726754\n",
       "..      ...          ...          ...     ...\n",
       "67     West      average        50-59  222185\n",
       "68     West          low        50-59  201913\n",
       "69     West          low        60-69  170121\n",
       "70     West         high        18-29   48349\n",
       "71     West         high        30-39   38678\n",
       "\n",
       "[72 rows x 4 columns]"
      ]
     },
     "execution_count": 39,
     "metadata": {},
     "output_type": "execute_result"
    }
   ],
   "source": [
    "age_income_region"
   ]
  },
  {
   "cell_type": "code",
   "execution_count": 40,
   "id": "6a257de8",
   "metadata": {},
   "outputs": [],
   "source": [
    "# Income by region\n",
    "\n",
    "income_region = pd.crosstab(merged_df['income_group'],merged_df['region'], dropna = False)"
   ]
  },
  {
   "cell_type": "code",
   "execution_count": 41,
   "id": "17b55402",
   "metadata": {},
   "outputs": [
    {
     "data": {
      "text/html": [
       "<div>\n",
       "<style scoped>\n",
       "    .dataframe tbody tr th:only-of-type {\n",
       "        vertical-align: middle;\n",
       "    }\n",
       "\n",
       "    .dataframe tbody tr th {\n",
       "        vertical-align: top;\n",
       "    }\n",
       "\n",
       "    .dataframe thead th {\n",
       "        text-align: right;\n",
       "    }\n",
       "</style>\n",
       "<table border=\"1\" class=\"dataframe\">\n",
       "  <thead>\n",
       "    <tr style=\"text-align: right;\">\n",
       "      <th>region</th>\n",
       "      <th>Midwest</th>\n",
       "      <th>Northeast</th>\n",
       "      <th>South</th>\n",
       "      <th>West</th>\n",
       "    </tr>\n",
       "    <tr>\n",
       "      <th>income_group</th>\n",
       "      <th></th>\n",
       "      <th></th>\n",
       "      <th></th>\n",
       "      <th></th>\n",
       "    </tr>\n",
       "  </thead>\n",
       "  <tbody>\n",
       "    <tr>\n",
       "      <th>average</th>\n",
       "      <td>1969147</td>\n",
       "      <td>1526040</td>\n",
       "      <td>2916823</td>\n",
       "      <td>2182286</td>\n",
       "    </tr>\n",
       "    <tr>\n",
       "      <th>high</th>\n",
       "      <td>3539752</td>\n",
       "      <td>2628275</td>\n",
       "      <td>4865084</td>\n",
       "      <td>3780301</td>\n",
       "    </tr>\n",
       "    <tr>\n",
       "      <th>low</th>\n",
       "      <td>2087854</td>\n",
       "      <td>1567949</td>\n",
       "      <td>3008890</td>\n",
       "      <td>2329574</td>\n",
       "    </tr>\n",
       "  </tbody>\n",
       "</table>\n",
       "</div>"
      ],
      "text/plain": [
       "region        Midwest  Northeast    South     West\n",
       "income_group                                      \n",
       "average       1969147    1526040  2916823  2182286\n",
       "high          3539752    2628275  4865084  3780301\n",
       "low           2087854    1567949  3008890  2329574"
      ]
     },
     "execution_count": 41,
     "metadata": {},
     "output_type": "execute_result"
    }
   ],
   "source": [
    "income_region"
   ]
  },
  {
   "cell_type": "code",
   "execution_count": 46,
   "id": "b1b16301",
   "metadata": {},
   "outputs": [],
   "source": [
    "# Order count of each region\n",
    "\n",
    "region_value_counts = merged_df['region'].value_counts().reset_index()"
   ]
  },
  {
   "cell_type": "code",
   "execution_count": 47,
   "id": "14f18a5a",
   "metadata": {},
   "outputs": [],
   "source": [
    "# Rename column\n",
    "\n",
    "region_value_counts.columns = ['region', 'order_count']"
   ]
  },
  {
   "cell_type": "code",
   "execution_count": 48,
   "id": "44b6381a",
   "metadata": {},
   "outputs": [
    {
     "data": {
      "text/html": [
       "<div>\n",
       "<style scoped>\n",
       "    .dataframe tbody tr th:only-of-type {\n",
       "        vertical-align: middle;\n",
       "    }\n",
       "\n",
       "    .dataframe tbody tr th {\n",
       "        vertical-align: top;\n",
       "    }\n",
       "\n",
       "    .dataframe thead th {\n",
       "        text-align: right;\n",
       "    }\n",
       "</style>\n",
       "<table border=\"1\" class=\"dataframe\">\n",
       "  <thead>\n",
       "    <tr style=\"text-align: right;\">\n",
       "      <th></th>\n",
       "      <th>region</th>\n",
       "      <th>order_count</th>\n",
       "    </tr>\n",
       "  </thead>\n",
       "  <tbody>\n",
       "    <tr>\n",
       "      <th>0</th>\n",
       "      <td>South</td>\n",
       "      <td>10790797</td>\n",
       "    </tr>\n",
       "    <tr>\n",
       "      <th>1</th>\n",
       "      <td>West</td>\n",
       "      <td>8292161</td>\n",
       "    </tr>\n",
       "    <tr>\n",
       "      <th>2</th>\n",
       "      <td>Midwest</td>\n",
       "      <td>7596753</td>\n",
       "    </tr>\n",
       "    <tr>\n",
       "      <th>3</th>\n",
       "      <td>Northeast</td>\n",
       "      <td>5722264</td>\n",
       "    </tr>\n",
       "  </tbody>\n",
       "</table>\n",
       "</div>"
      ],
      "text/plain": [
       "      region  order_count\n",
       "0      South     10790797\n",
       "1       West      8292161\n",
       "2    Midwest      7596753\n",
       "3  Northeast      5722264"
      ]
     },
     "execution_count": 48,
     "metadata": {},
     "output_type": "execute_result"
    }
   ],
   "source": [
    "region_value_counts"
   ]
  },
  {
   "cell_type": "code",
   "execution_count": 51,
   "id": "0439f57c",
   "metadata": {},
   "outputs": [],
   "source": [
    "# Dependents by region\n",
    "dependents_region = pd.crosstab(merged_df['dependents_group'],merged_df['region'], dropna = False)"
   ]
  },
  {
   "cell_type": "code",
   "execution_count": 52,
   "id": "8c04bcbf",
   "metadata": {},
   "outputs": [
    {
     "data": {
      "text/html": [
       "<div>\n",
       "<style scoped>\n",
       "    .dataframe tbody tr th:only-of-type {\n",
       "        vertical-align: middle;\n",
       "    }\n",
       "\n",
       "    .dataframe tbody tr th {\n",
       "        vertical-align: top;\n",
       "    }\n",
       "\n",
       "    .dataframe thead th {\n",
       "        text-align: right;\n",
       "    }\n",
       "</style>\n",
       "<table border=\"1\" class=\"dataframe\">\n",
       "  <thead>\n",
       "    <tr style=\"text-align: right;\">\n",
       "      <th>region</th>\n",
       "      <th>Midwest</th>\n",
       "      <th>Northeast</th>\n",
       "      <th>South</th>\n",
       "      <th>West</th>\n",
       "    </tr>\n",
       "    <tr>\n",
       "      <th>dependents_group</th>\n",
       "      <th></th>\n",
       "      <th></th>\n",
       "      <th></th>\n",
       "      <th></th>\n",
       "    </tr>\n",
       "  </thead>\n",
       "  <tbody>\n",
       "    <tr>\n",
       "      <th>family</th>\n",
       "      <td>5325223</td>\n",
       "      <td>4035971</td>\n",
       "      <td>7559858</td>\n",
       "      <td>5833701</td>\n",
       "    </tr>\n",
       "    <tr>\n",
       "      <th>single_adult</th>\n",
       "      <td>1905043</td>\n",
       "      <td>1418193</td>\n",
       "      <td>2701405</td>\n",
       "      <td>2072108</td>\n",
       "    </tr>\n",
       "    <tr>\n",
       "      <th>single_parent</th>\n",
       "      <td>366487</td>\n",
       "      <td>268100</td>\n",
       "      <td>529534</td>\n",
       "      <td>386352</td>\n",
       "    </tr>\n",
       "  </tbody>\n",
       "</table>\n",
       "</div>"
      ],
      "text/plain": [
       "region            Midwest  Northeast    South     West\n",
       "dependents_group                                      \n",
       "family            5325223    4035971  7559858  5833701\n",
       "single_adult      1905043    1418193  2701405  2072108\n",
       "single_parent      366487     268100   529534   386352"
      ]
     },
     "execution_count": 52,
     "metadata": {},
     "output_type": "execute_result"
    }
   ],
   "source": [
    "dependents_region"
   ]
  },
  {
   "cell_type": "code",
   "execution_count": 62,
   "id": "e034be88",
   "metadata": {},
   "outputs": [],
   "source": [
    "# Create crosstab for departments by dependents\n",
    "\n",
    "departments_dependents = pd.crosstab(merged_df['department'], merged_df['dependents_group'], dropna=False)"
   ]
  },
  {
   "cell_type": "code",
   "execution_count": 63,
   "id": "befdaf86",
   "metadata": {},
   "outputs": [
    {
     "data": {
      "text/html": [
       "<div>\n",
       "<style scoped>\n",
       "    .dataframe tbody tr th:only-of-type {\n",
       "        vertical-align: middle;\n",
       "    }\n",
       "\n",
       "    .dataframe tbody tr th {\n",
       "        vertical-align: top;\n",
       "    }\n",
       "\n",
       "    .dataframe thead th {\n",
       "        text-align: right;\n",
       "    }\n",
       "</style>\n",
       "<table border=\"1\" class=\"dataframe\">\n",
       "  <thead>\n",
       "    <tr style=\"text-align: right;\">\n",
       "      <th>dependents_group</th>\n",
       "      <th>family</th>\n",
       "      <th>single_adult</th>\n",
       "      <th>single_parent</th>\n",
       "    </tr>\n",
       "    <tr>\n",
       "      <th>department</th>\n",
       "      <th></th>\n",
       "      <th></th>\n",
       "      <th></th>\n",
       "    </tr>\n",
       "  </thead>\n",
       "  <tbody>\n",
       "    <tr>\n",
       "      <th>alcohol</th>\n",
       "      <td>105647</td>\n",
       "      <td>39090</td>\n",
       "      <td>8893</td>\n",
       "    </tr>\n",
       "    <tr>\n",
       "      <th>babies</th>\n",
       "      <td>297154</td>\n",
       "      <td>106491</td>\n",
       "      <td>20146</td>\n",
       "    </tr>\n",
       "    <tr>\n",
       "      <th>bakery</th>\n",
       "      <td>821829</td>\n",
       "      <td>294390</td>\n",
       "      <td>56140</td>\n",
       "    </tr>\n",
       "    <tr>\n",
       "      <th>beverages</th>\n",
       "      <td>1888539</td>\n",
       "      <td>674247</td>\n",
       "      <td>124598</td>\n",
       "    </tr>\n",
       "    <tr>\n",
       "      <th>breakfast</th>\n",
       "      <td>493686</td>\n",
       "      <td>174567</td>\n",
       "      <td>34731</td>\n",
       "    </tr>\n",
       "    <tr>\n",
       "      <th>bulk</th>\n",
       "      <td>24620</td>\n",
       "      <td>8276</td>\n",
       "      <td>1674</td>\n",
       "    </tr>\n",
       "    <tr>\n",
       "      <th>canned goods</th>\n",
       "      <td>751999</td>\n",
       "      <td>264824</td>\n",
       "      <td>51190</td>\n",
       "    </tr>\n",
       "    <tr>\n",
       "      <th>dairy eggs</th>\n",
       "      <td>3788364</td>\n",
       "      <td>1349252</td>\n",
       "      <td>260773</td>\n",
       "    </tr>\n",
       "    <tr>\n",
       "      <th>deli</th>\n",
       "      <td>735647</td>\n",
       "      <td>265136</td>\n",
       "      <td>50410</td>\n",
       "    </tr>\n",
       "    <tr>\n",
       "      <th>dry goods pasta</th>\n",
       "      <td>609650</td>\n",
       "      <td>215258</td>\n",
       "      <td>41700</td>\n",
       "    </tr>\n",
       "    <tr>\n",
       "      <th>frozen</th>\n",
       "      <td>1568917</td>\n",
       "      <td>557102</td>\n",
       "      <td>108521</td>\n",
       "    </tr>\n",
       "    <tr>\n",
       "      <th>household</th>\n",
       "      <td>522535</td>\n",
       "      <td>180737</td>\n",
       "      <td>35215</td>\n",
       "    </tr>\n",
       "    <tr>\n",
       "      <th>international</th>\n",
       "      <td>188460</td>\n",
       "      <td>67711</td>\n",
       "      <td>13073</td>\n",
       "    </tr>\n",
       "    <tr>\n",
       "      <th>meat seafood</th>\n",
       "      <td>500829</td>\n",
       "      <td>174070</td>\n",
       "      <td>33980</td>\n",
       "    </tr>\n",
       "    <tr>\n",
       "      <th>missing</th>\n",
       "      <td>48483</td>\n",
       "      <td>17088</td>\n",
       "      <td>3571</td>\n",
       "    </tr>\n",
       "    <tr>\n",
       "      <th>other</th>\n",
       "      <td>25200</td>\n",
       "      <td>9172</td>\n",
       "      <td>1911</td>\n",
       "    </tr>\n",
       "    <tr>\n",
       "      <th>pantry</th>\n",
       "      <td>1318248</td>\n",
       "      <td>466706</td>\n",
       "      <td>90264</td>\n",
       "    </tr>\n",
       "    <tr>\n",
       "      <th>personal care</th>\n",
       "      <td>314202</td>\n",
       "      <td>111985</td>\n",
       "      <td>21310</td>\n",
       "    </tr>\n",
       "    <tr>\n",
       "      <th>pets</th>\n",
       "      <td>67509</td>\n",
       "      <td>24581</td>\n",
       "      <td>5620</td>\n",
       "    </tr>\n",
       "    <tr>\n",
       "      <th>produce</th>\n",
       "      <td>6653829</td>\n",
       "      <td>2375337</td>\n",
       "      <td>449599</td>\n",
       "    </tr>\n",
       "    <tr>\n",
       "      <th>snacks</th>\n",
       "      <td>2029406</td>\n",
       "      <td>720729</td>\n",
       "      <td>137154</td>\n",
       "    </tr>\n",
       "  </tbody>\n",
       "</table>\n",
       "</div>"
      ],
      "text/plain": [
       "dependents_group   family  single_adult  single_parent\n",
       "department                                            \n",
       "alcohol            105647         39090           8893\n",
       "babies             297154        106491          20146\n",
       "bakery             821829        294390          56140\n",
       "beverages         1888539        674247         124598\n",
       "breakfast          493686        174567          34731\n",
       "bulk                24620          8276           1674\n",
       "canned goods       751999        264824          51190\n",
       "dairy eggs        3788364       1349252         260773\n",
       "deli               735647        265136          50410\n",
       "dry goods pasta    609650        215258          41700\n",
       "frozen            1568917        557102         108521\n",
       "household          522535        180737          35215\n",
       "international      188460         67711          13073\n",
       "meat seafood       500829        174070          33980\n",
       "missing             48483         17088           3571\n",
       "other               25200          9172           1911\n",
       "pantry            1318248        466706          90264\n",
       "personal care      314202        111985          21310\n",
       "pets                67509         24581           5620\n",
       "produce           6653829       2375337         449599\n",
       "snacks            2029406        720729         137154"
      ]
     },
     "execution_count": 63,
     "metadata": {},
     "output_type": "execute_result"
    }
   ],
   "source": [
    "departments_dependents"
   ]
  },
  {
   "cell_type": "markdown",
   "id": "15940e94",
   "metadata": {},
   "source": [
    "# Step 9, Charts"
   ]
  },
  {
   "cell_type": "code",
   "execution_count": 55,
   "id": "22eba895",
   "metadata": {},
   "outputs": [
    {
     "data": {
      "text/plain": [
       "Text(0, 0.5, 'Count')"
      ]
     },
     "execution_count": 55,
     "metadata": {},
     "output_type": "execute_result"
    },
    {
     "data": {
      "image/png": "[encoded data removed]",
      "text/plain": [
       "<Figure size 1000x600 with 1 Axes>"
      ]
     },
     "metadata": {},
     "output_type": "display_data"
    }
   ],
   "source": [
    "# Create bar chart for dependents_region\n",
    "\n",
    "dependents_region.plot(kind='bar', figsize=(10, 6))\n",
    "\n",
    "# Title and labels\n",
    "\n",
    "plt.title('Customer Profile by Region')\n",
    "plt.xlabel('Dependents Group')\n",
    "plt.ylabel('Count')\n"
   ]
  },
  {
   "cell_type": "code",
   "execution_count": 65,
   "id": "7483a04f",
   "metadata": {},
   "outputs": [
    {
     "data": {
      "text/plain": [
       "Text(0, 0.5, 'Count')"
      ]
     },
     "execution_count": 65,
     "metadata": {},
     "output_type": "execute_result"
    },
    {
     "data": {
      "image/png": "[encoded data removed]",
      "text/plain": [
       "<Figure size 1200x600 with 1 Axes>"
      ]
     },
     "metadata": {},
     "output_type": "display_data"
    }
   ],
   "source": [
    "# Create bar chart\n",
    "\n",
    "departments_dependents.plot(kind='bar', figsize=(12, 6))\n",
    "\n",
    "# Set title and labels\n",
    "\n",
    "plt.title('Departments by Dependents')\n",
    "plt.xlabel('Department')\n",
    "plt.ylabel('Count')"
   ]
  },
  {
   "cell_type": "code",
   "execution_count": 71,
   "id": "8747ff2b",
   "metadata": {},
   "outputs": [
    {
     "data": {
      "text/plain": [
       "Text(0.5, 1.0, 'Order Count by Region')"
      ]
     },
     "execution_count": 71,
     "metadata": {},
     "output_type": "execute_result"
    },
    {
     "data": {
      "image/png": "[encoded data removed]",
      "text/plain": [
       "<Figure size 640x480 with 1 Axes>"
      ]
     },
     "metadata": {},
     "output_type": "display_data"
    }
   ],
   "source": [
    "# Create bar chart\n",
    "\n",
    "plt.bar(region_value_counts['region'], region_value_counts['order_count'])\n",
    "\n",
    "# labels and title\n",
    "\n",
    "plt.xlabel('Region')\n",
    "plt.ylabel('Order Count')\n",
    "plt.title('Order Count by Region')"
   ]
  },
  {
   "cell_type": "code",
   "execution_count": 72,
   "id": "be76cf5d",
   "metadata": {},
   "outputs": [
    {
     "data": {
      "text/plain": [
       "Text(0.5, 1.0, 'Income Group by Region')"
      ]
     },
     "execution_count": 72,
     "metadata": {},
     "output_type": "execute_result"
    },
    {
     "data": {
      "image/png": "[encoded data removed]",
      "text/plain": [
       "<Figure size 1000x600 with 1 Axes>"
      ]
     },
     "metadata": {},
     "output_type": "display_data"
    }
   ],
   "source": [
    "# Create bar chart\n",
    "\n",
    "income_region.plot(kind='bar', figsize=(10, 6))\n",
    "\n",
    "# labels and title\n",
    "plt.xlabel('Income Group')\n",
    "plt.ylabel('Count')\n",
    "plt.title('Income Group by Region')\n"
   ]
  },
  {
   "cell_type": "markdown",
   "id": "04d532ca",
   "metadata": {},
   "source": [
    "# Step 10, Export"
   ]
  },
  {
   "cell_type": "code",
   "execution_count": 73,
   "id": "011ccdb2",
   "metadata": {},
   "outputs": [],
   "source": [
    "# Defining filepath\n",
    "\n",
    "file_path = \"/Users/daphne/Downloads/Instacart Basket Analysis/02 Data/ords_prods_deps_merged_full.pkl\""
   ]
  },
  {
   "cell_type": "code",
   "execution_count": 74,
   "id": "665225d2",
   "metadata": {},
   "outputs": [],
   "source": [
    "# Export dataframe\n",
    "\n",
    "merged_df.to_pickle(file_path)"
   ]
  },
  {
   "cell_type": "code",
   "execution_count": 75,
   "id": "bc5f0e95",
   "metadata": {},
   "outputs": [
    {
     "name": "stdout",
     "output_type": "stream",
     "text": [
      "DataFrame exported to '/Users/daphne/Downloads/Instacart Basket Analysis/02 Data/ords_prods_deps_merged_full.pkl' successfully.\n"
     ]
    }
   ],
   "source": [
    "# Comfirm export\n",
    "\n",
    "print(f\"DataFrame exported to '{file_path}' successfully.\")"
   ]
  }
 ],
 "metadata": {
  "kernelspec": {
   "display_name": "Python 3 (ipykernel)",
   "language": "python",
   "name": "python3"
  },
  "language_info": {
   "codemirror_mode": {
    "name": "ipython",
    "version": 3
   },
   "file_extension": ".py",
   "mimetype": "text/x-python",
   "name": "python",
   "nbconvert_exporter": "python",
   "pygments_lexer": "ipython3",
   "version": "3.11.3"
  }
 },
 "nbformat": 4,
 "nbformat_minor": 5
}
