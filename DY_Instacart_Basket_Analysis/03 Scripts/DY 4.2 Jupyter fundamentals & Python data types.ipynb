{
 "cells": [
  {
   "cell_type": "code",
   "execution_count": null,
   "id": "632c0fee",
   "metadata": {},
   "outputs": [],
   "source": [
    "# Importing Libraries"
   ]
  },
  {
   "cell_type": "code",
   "execution_count": 1,
   "id": "009111ca",
   "metadata": {},
   "outputs": [],
   "source": [
    "#importing libraries\n",
    "import pandas as pd\n",
    "import numpy as np\n",
    "import os"
   ]
  },
  {
   "cell_type": "code",
   "execution_count": 3,
   "id": "6092f78e",
   "metadata": {},
   "outputs": [],
   "source": [
    "x=50"
   ]
  },
  {
   "cell_type": "code",
   "execution_count": 4,
   "id": "a18224a7",
   "metadata": {},
   "outputs": [],
   "source": [
    "y=50"
   ]
  },
  {
   "cell_type": "code",
   "execution_count": 5,
   "id": "bbc81251",
   "metadata": {},
   "outputs": [
    {
     "data": {
      "text/plain": [
       "100"
      ]
     },
     "execution_count": 5,
     "metadata": {},
     "output_type": "execute_result"
    }
   ],
   "source": [
    "x+y"
   ]
  },
  {
   "cell_type": "code",
   "execution_count": 6,
   "id": "80dfd814",
   "metadata": {},
   "outputs": [],
   "source": [
    "x=1"
   ]
  },
  {
   "cell_type": "code",
   "execution_count": 7,
   "id": "b8e3d05d",
   "metadata": {},
   "outputs": [],
   "source": [
    "y=101"
   ]
  },
  {
   "cell_type": "code",
   "execution_count": 8,
   "id": "4fde1c6e",
   "metadata": {},
   "outputs": [
    {
     "data": {
      "text/plain": [
       "100"
      ]
     },
     "execution_count": 8,
     "metadata": {},
     "output_type": "execute_result"
    }
   ],
   "source": [
    "y-x"
   ]
  },
  {
   "cell_type": "code",
   "execution_count": 9,
   "id": "0b670ae8",
   "metadata": {},
   "outputs": [],
   "source": [
    "x=50"
   ]
  },
  {
   "cell_type": "code",
   "execution_count": 10,
   "id": "11b6c709",
   "metadata": {},
   "outputs": [],
   "source": [
    "y=49"
   ]
  },
  {
   "cell_type": "code",
   "execution_count": 11,
   "id": "512c258e",
   "metadata": {},
   "outputs": [],
   "source": [
    "z=1"
   ]
  },
  {
   "cell_type": "code",
   "execution_count": 12,
   "id": "482d467d",
   "metadata": {},
   "outputs": [
    {
     "data": {
      "text/plain": [
       "100"
      ]
     },
     "execution_count": 12,
     "metadata": {},
     "output_type": "execute_result"
    }
   ],
   "source": [
    "x+y+z"
   ]
  },
  {
   "cell_type": "code",
   "execution_count": 13,
   "id": "beba6b71",
   "metadata": {},
   "outputs": [],
   "source": [
    "x=9.16"
   ]
  },
  {
   "cell_type": "code",
   "execution_count": 14,
   "id": "13868b34",
   "metadata": {},
   "outputs": [],
   "source": [
    "y=8.21"
   ]
  },
  {
   "cell_type": "code",
   "execution_count": 15,
   "id": "a7f068e3",
   "metadata": {},
   "outputs": [
    {
     "data": {
      "text/plain": [
       "1.1157125456760049"
      ]
     },
     "execution_count": 15,
     "metadata": {},
     "output_type": "execute_result"
    }
   ],
   "source": [
    "x/y"
   ]
  },
  {
   "cell_type": "code",
   "execution_count": 19,
   "id": "8779dea3",
   "metadata": {},
   "outputs": [],
   "source": [
    "x='c'"
   ]
  },
  {
   "cell_type": "code",
   "execution_count": 20,
   "id": "28ff3aa9",
   "metadata": {},
   "outputs": [],
   "source": [
    "y='a'"
   ]
  },
  {
   "cell_type": "code",
   "execution_count": 21,
   "id": "caaf41d2",
   "metadata": {},
   "outputs": [],
   "source": [
    "z='t'"
   ]
  },
  {
   "cell_type": "code",
   "execution_count": 22,
   "id": "eb31a3c5",
   "metadata": {},
   "outputs": [
    {
     "data": {
      "text/plain": [
       "'cat'"
      ]
     },
     "execution_count": 22,
     "metadata": {},
     "output_type": "execute_result"
    }
   ],
   "source": [
    "x+y+z"
   ]
  },
  {
   "cell_type": "code",
   "execution_count": 29,
   "id": "c299104b",
   "metadata": {},
   "outputs": [],
   "source": [
    "a='Hi '"
   ]
  },
  {
   "cell_type": "code",
   "execution_count": 31,
   "id": "fe8fdea8",
   "metadata": {},
   "outputs": [],
   "source": [
    "b='my name is Daphne. '"
   ]
  },
  {
   "cell_type": "code",
   "execution_count": 27,
   "id": "728049fd",
   "metadata": {},
   "outputs": [],
   "source": [
    "c=\"Daphne, nice to meet you!\""
   ]
  },
  {
   "cell_type": "code",
   "execution_count": 32,
   "id": "8110e097",
   "metadata": {},
   "outputs": [
    {
     "data": {
      "text/plain": [
       "'Hi my name is Daphne. Hi Daphne, nice to meet you!'"
      ]
     },
     "execution_count": 32,
     "metadata": {},
     "output_type": "execute_result"
    }
   ],
   "source": [
    "a+b+a+c"
   ]
  },
  {
   "cell_type": "code",
   "execution_count": null,
   "id": "4846363d",
   "metadata": {},
   "outputs": [],
   "source": []
  }
 ],
 "metadata": {
  "kernelspec": {
   "display_name": "Python 3 (ipykernel)",
   "language": "python",
   "name": "python3"
  },
  "language_info": {
   "codemirror_mode": {
    "name": "ipython",
    "version": 3
   },
   "file_extension": ".py",
   "mimetype": "text/x-python",
   "name": "python",
   "nbconvert_exporter": "python",
   "pygments_lexer": "ipython3",
   "version": "3.11.3"
  }
 },
 "nbformat": 4,
 "nbformat_minor": 5
}
